{
 "cells": [
  {
   "cell_type": "code",
   "execution_count": 1,
   "metadata": {},
   "outputs": [
    {
     "name": "stdout",
     "output_type": "stream",
     "text": [
      "off\n"
     ]
    }
   ],
   "source": [
    "\n",
    "input_str = [6,True] \n",
    "# Here 1 represents the day of the week and Flase represents if on vacation or not, if on vacation then it will be true.\n",
    "\n",
    "input_list =(input_str)\n",
    "\n",
    "\n",
    "day_of_the_week = input_list[0] #first element is an integer denoting the day of the week\n",
    "is_on_vacation = input_list[1] #this is a boolean denoting if its vacation or not\n",
    "\n",
    "# write your code here\n",
    "def alarm_time(day_of_the_week, is_on_vacation):\n",
    "    weekend = [6,7]\n",
    "    if is_on_vacation:\n",
    "        if day_of_the_week in weekend:\n",
    "            return 'off'\n",
    "        else:\n",
    "            return \"10:00\"\n",
    "        \n",
    "    else:\n",
    "        if day_of_the_week in weekend:\n",
    "            return '10:00'\n",
    "        else:\n",
    "            return '7:00'\n",
    "print(alarm_time(day_of_the_week, is_on_vacation))"
   ]
  },
  {
   "cell_type": "code",
   "execution_count": null,
   "metadata": {},
   "outputs": [],
   "source": []
  }
 ],
 "metadata": {
  "kernelspec": {
   "display_name": "Python 3",
   "language": "python",
   "name": "python3"
  },
  "language_info": {
   "codemirror_mode": {
    "name": "ipython",
    "version": 3
   },
   "file_extension": ".py",
   "mimetype": "text/x-python",
   "name": "python",
   "nbconvert_exporter": "python",
   "pygments_lexer": "ipython3",
   "version": "3.8.5"
  }
 },
 "nbformat": 4,
 "nbformat_minor": 4
}
